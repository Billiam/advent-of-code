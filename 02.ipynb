{
 "cells": [
  {
   "cell_type": "markdown",
   "metadata": {},
   "source": [
    "# Day 2"
   ]
  },
  {
   "cell_type": "code",
   "execution_count": 4,
   "metadata": {
    "collapsed": true
   },
   "outputs": [],
   "source": [
    "data=File.read('2.txt').split(\"\\n\").map{|i| i.split(\": \") };nil"
   ]
  },
  {
   "cell_type": "code",
   "execution_count": 16,
   "metadata": {},
   "outputs": [
    {
     "data": {
      "text/plain": [
       "[[\"2-3 b\", \"bkkb\"], [\"7-10 f\", \"zffxbwffqfxfffxf\"], [\"2-3 k\", \"krjkk\"], [\"10-11 k\", \"kkkkkkkkkkg\"], [\"3-5 m\", \"tdwmmmmj\"], [\"2-5 s\", \"tsszkhgf\"], [\"10-11 r\", \"rrrxrrrrwhrrrr\"], [\"6-9 n\", \"nnxnwnnnbl\"], [\"3-4 h\", \"jhhh\"], [\"13-14 q\", \"qqqqqqqqxqqqqlqq\"], [\"1-3 k\", \"cmkrdptlkxlkh\"], [\"4-10 b\", \"brbxqbbblb\"], [\"3-4 f\", \"fqdff\"], [\"3-4 r\", \"rqrpzrr\"], [\"6-7 n\", \"cknndnngpnnn\"], [\"2-6 b\", \"pkbbbbb\"], [\"3-9 s\", \"lssssssjswzss\"], [\"3-4 p\", \"pppqp\"], [\"7-16 s\", \"ssnslsmshfsvstxsprw\"], [\"2-4 q\", \"qcqqhq\"], [\"4-9 r\", \"rrrrrrrrr\"], [\"1-4 h\", \"hhhs\"], [\"5-17 g\", \"cgvfqmggggqggggzgw\"], [\"2-13 m\", \"mpsmmmmmmmmmmmm\"], [\"8-12 b\", \"bdbbblbbbbxkbmb\"], [\"17-18 z\", \"zzzzzzzzzzzzzzzzjz\"], [\"3-4 m\", \"mmpm\"], [\"4-5 s\", \"bsjsssbt\"], [\"2-5 j\", \"psjvjzbghz\"], [\"11-12 b\", \"bbbbbbbbbbbbl\"], [\"6-7 b\", \"bbbbbbb\"], [\"6-7 k\", \"kkkkkkps\"], [\"9-10 w\", \"wwwcrxcwwwwwwf\"], [\"1-3 k\", \"rkkk\"], [\"2-14 v\", \"vhhtvgwvdhvmqvmsp\"], [\"3-5 v\", \"bdlgvcqftvvx\"], [\"8-9 p\", \"ppppppppw\"], [\"11-17 w\", \"wgwwwwwwwwwwwwjbwwww\"], [\"1-5 q\", \"ccbwhgqszgnqtf\"], [\"1-6 d\", \"dkxxddd\"], [\"10-13 x\", \"rxcxxxxxhxcxkxxx\"], [\"2-6 p\", \"pppppfp\"], [\"4-5 k\", \"mkjnkmtkkpk\"], [\"7-14 f\", \"ffffffkwfffhpf\"], [\"7-10 l\", \"lmllgllwll\"], [\"6-13 q\", \"zqnrkqpqcdfnqvdnlrqq\"], [\"11-18 v\", \"vvvgvvvvvtmvrvvvsqv\"], [\"7-8 n\", \"wghnnnwnnnmvnn\"], [\"4-6 v\", \"vvvvmsvd\"], [\"10-11 m\", \"mmmmmmmkmgmm\"], [\"5-10 s\", \"jgsssgsssqsh\"], [\"4-7 g\", \"ggxtmdggmghgc\"], [\"15-16 v\", \"vvvvvvvvvvvvvvvh\"], [\"2-5 g\", \"sgcgr\"], [\"5-7 f\", \"fxffjffffp\"], [\"10-15 r\", \"rrrrrrdrrrrrjrr\"], [\"13-16 p\", \"ppppppbppppppwpmppp\"], [\"5-11 z\", \"zbmxftzzzzmz\"], [\"11-13 k\", \"jkkxkkkkvkwkkkkvk\"], [\"8-11 j\", \"gjjjjnjkdjqpjtj\"], [\"2-4 x\", \"xxxjj\"], [\"2-13 r\", \"rgnrlpwrbrrxvrrrrzw\"], [\"5-6 p\", \"pppppp\"], [\"2-3 n\", \"kfnn\"], [\"5-9 v\", \"vvvvvvvvmv\"], [\"9-16 x\", \"xxxxxxxxmxxxxxxnx\"], [\"6-12 t\", \"tttgtttltbtnhrtgk\"], [\"7-10 v\", \"vvvvvvvvvsv\"], [\"4-7 h\", \"zmlhhpljhjjhqfh\"], [\"8-9 m\", \"mmmxmsmkmmmm\"], [\"10-11 z\", \"zzzzzzzzztwz\"], [\"13-14 t\", \"ttttttttttttgt\"], [\"2-4 n\", \"hnfnn\"], [\"9-10 z\", \"zzzzzzzzzrz\"], [\"7-8 m\", \"pmcgtmmmmmxmvm\"], [\"6-9 x\", \"xxxxfxxxq\"], [\"2-4 w\", \"wwws\"], [\"9-17 h\", \"hbhhcvhrhctvhhhhx\"], [\"2-11 k\", \"qfnkfhlbfkshtqvcnk\"], [\"10-14 n\", \"nnnnnznnnnnnnknr\"], [\"6-8 k\", \"ppkhkkgkjkqjkkhzkbv\"], [\"1-2 f\", \"pfcm\"], [\"10-11 g\", \"gggggwgggbgg\"], [\"3-6 w\", \"dwrwgw\"], [\"4-7 s\", \"pdsdmsssm\"], [\"2-9 d\", \"dtzdfddmcbtddjddc\"], [\"4-5 j\", \"jjhjjj\"], [\"1-5 l\", \"ldjll\"], [\"7-11 m\", \"mmwmmlmmmmmmm\"], [\"10-14 h\", \"jhgchkhkhhhhhqhh\"], [\"1-13 k\", \"kjzbztnmnqkckcgkt\"], [\"4-7 t\", \"tzttvbtxltst\"], [\"2-12 t\", \"ntkdzntftxnjl\"], [\"1-3 z\", \"bzbzz\"], [\"1-11 t\", \"ttttttttxts\"], [\"6-8 x\", \"xxxxsxxxxsf\"], [\"1-3 g\", \"cxngg\"], [\"12-14 h\", \"hvhbhhnhhhhhhhh\"], [\"4-8 n\", \"nnhnkzzrbgwtbvnprnjx\"], [\"2-5 t\", \"qrlttrdf\"], [\"1-12 w\", \"wwwwwwfgqwggwxwfwbw\"], [\"2-7 n\", \"nnpswzxxhd\"], [\"7-9 g\", \"ggggzgqgngm\"], [\"9-12 d\", \"ddkddddddpdd\"], [\"9-16 c\", \"ccdcckrccchcccpccs\"], [\"1-9 g\", \"gkggrbggg\"], [\"15-16 k\", \"kkkkkkkkkkkkkkks\"], [\"7-8 k\", \"kkkkkkkt\"], [\"8-9 q\", \"dqqqqqqwfqqbq\"], [\"4-10 z\", \"hzjzprfqtzfzlcdpvm\"], [\"9-15 l\", \"lflllblllllqllhl\"], [\"6-9 c\", \"ccccczccxvckck\"], [\"3-6 v\", \"vvvxtb\"], [\"4-7 n\", \"nbcwzbvhgnnn\"], [\"3-4 d\", \"pdhdgwdd\"], [\"16-20 t\", \"tttttttttttttttttttt\"], [\"1-6 x\", \"fxtmtlxgxl\"], [\"2-3 r\", \"rsrr\"], [\"2-16 p\", \"tpsthmqblbjdvxfspm\"], [\"13-15 c\", \"ccccccccccccccc\"], [\"8-9 f\", \"fffkfxfgfff\"], [\"1-6 f\", \"fzfffjf\"], [\"5-6 d\", \"dddcdrd\"], [\"5-6 h\", \"gchlpkxhshhh\"], [\"1-3 d\", \"dmfp\"], [\"8-13 n\", \"cndnnknvpnvnnn\"], [\"2-4 z\", \"xztz\"], [\"2-3 h\", \"hhzzm\"], [\"5-9 w\", \"qqwwwwvsw\"], [\"6-7 g\", \"bggxggkgsmgg\"], [\"1-11 m\", \"cnmbjlmhlqx\"], [\"14-15 n\", \"nwpnnnnnnnnnnnnnpn\"], [\"3-5 m\", \"mpmmnmd\"], [\"12-13 m\", \"qmmmmmmmmmmmxmm\"], [\"6-8 b\", \"cbbbbkbb\"], [\"7-8 m\", \"mmmmmmtm\"], [\"2-7 s\", \"ntbjsswshs\"], [\"2-3 r\", \"btrgr\"], [\"2-4 r\", \"rrrr\"], [\"1-9 n\", \"nntshwzsf\"], [\"2-4 n\", \"nnnpnjcc\"], [\"1-9 d\", \"sddddddddd\"], [\"2-5 p\", \"zpvwp\"], [\"5-6 g\", \"gtgkgggzgr\"], [\"11-12 k\", \"kkkkkkkkkkdk\"], [\"9-18 x\", \"bxlqxvxxxxxxxxxcvmc\"], [\"1-4 f\", \"dfcztnztghj\"], [\"7-10 t\", \"tttpttkttjtt\"], [\"3-4 h\", \"vfhhhhv\"], [\"5-9 c\", \"bcbcccccmcchrgz\"], [\"7-12 f\", \"ffqfvffkfrztjdfcff\"], [\"9-12 t\", \"tttsqtttpttrtttlrt\"], [\"2-3 n\", \"jnxpgngtgmx\"], [\"8-10 p\", \"pxpsppzvpppppp\"], [\"1-2 b\", \"bdhs\"], [\"2-4 n\", \"nnlmmzhtnknb\"], [\"4-16 h\", \"xhhhhchhhhhhghhphhs\"], [\"6-11 t\", \"tttzqtbttttt\"], [\"10-12 d\", \"dddddddkdrddd\"], [\"1-4 b\", \"bnvsbb\"], [\"6-11 q\", \"xqnfqqqqvqfqvqqqh\"], [\"3-8 k\", \"skskkkkvkk\"], [\"4-6 b\", \"bbbbbm\"], [\"6-9 v\", \"fvthvvvvzhvv\"], [\"5-9 w\", \"wwwwwwrwgw\"], [\"3-19 c\", \"vlpkjhtcvbktwwrcmnc\"], [\"10-13 r\", \"zrrrrrgwrrrsrrrcvr\"], [\"15-16 z\", \"zzzzzzzzzzzzzzhdzz\"], [\"2-18 j\", \"pjrkwwdbsfbbncjkpz\"], [\"11-12 z\", \"zzzzzzzzzzzm\"], [\"5-17 h\", \"whwdzvthhhhhhhhhhhh\"], [\"5-7 r\", \"rrcqvnsjrcvrwrfrp\"], [\"5-7 w\", \"wwrwwwww\"], [\"1-3 l\", \"llhl\"], [\"5-8 x\", \"hcjxszxxcxxxxx\"], [\"3-4 q\", \"qqqlc\"], [\"3-5 n\", \"nnmnnx\"], [\"7-10 r\", \"rrrbqqrrgbrrmp\"], [\"4-6 c\", \"ccpcldcc\"], [\"8-17 w\", \"scwwpwwwwwwtvwwwwwh\"], [\"8-9 x\", \"xxxxxxxxk\"], [\"4-12 l\", \"prllqnlgzsqxlvwbj\"], [\"8-9 d\", \"dddddddngd\"], [\"3-6 f\", \"rfffkfqf\"], [\"4-8 d\", \"dpzddfddhvjspzpn\"], [\"1-16 x\", \"xlxcxxxxpxxqfxxlxrx\"], [\"1-4 f\", \"hffpff\"], [\"4-6 f\", \"fffnfmf\"], [\"13-14 t\", \"tttctgttttttttttx\"], [\"4-12 h\", \"zhxlbhhhhhzch\"], [\"6-10 p\", \"ppdpptpxkpppd\"], [\"2-5 g\", \"stgfgsq\"], [\"3-4 b\", \"bbxbw\"], [\"16-17 c\", \"cccccdcccccdcccdccc\"], [\"2-4 n\", \"nvnvd\"], [\"7-8 d\", \"dddddddd\"], [\"6-9 m\", \"mpmmfmmmvm\"], [\"2-3 r\", \"rrrj\"], [\"10-13 s\", \"sjrssssdftsssss\"], [\"1-7 p\", \"ptdpsggktwjkpzpp\"], [\"3-5 p\", \"ppqppp\"], [\"1-2 l\", \"jkrmtrnflxhj\"], [\"2-5 x\", \"xxxxj\"], [\"3-13 m\", \"zjmmxcbcbksmntxghsm\"], [\"1-8 v\", \"nvvvvvvjvvg\"], [\"3-4 b\", \"bblb\"], [\"1-3 p\", \"qppmwvhmgmkcspdml\"], [\"2-3 p\", \"nrppvr\"], [\"10-11 r\", \"crrrrrrrrrrr\"], [\"12-14 k\", \"kkjklkkhkrkkkbkkkkk\"], [\"3-13 l\", \"lqfjldlxflnvrlcdmhll\"], [\"9-13 c\", \"cxsccbqkhccccxcjcp\"], [\"13-14 d\", \"dddddddddddddjd\"], [\"1-5 d\", \"cmbdxnxndpct\"], [\"3-4 l\", \"lllk\"], [\"5-6 b\", \"bbbbdb\"], [\"4-13 s\", \"sszsbksgtssbdmsls\"], [\"2-13 q\", \"kqxqrccgfhwcq\"], [\"4-12 t\", \"ttttlttttttlk\"], [\"14-16 h\", \"hhhhhhhhhhhhhhhh\"], [\"10-11 z\", \"zzzzzzzzzzz\"], [\"1-5 x\", \"xxnxs\"], [\"12-14 x\", \"xsxxxxxxxxxtkxx\"], [\"3-9 f\", \"fvffvfxxf\"], [\"1-3 w\", \"wwcw\"], [\"5-6 j\", \"gjjjqpjj\"], [\"2-3 h\", \"hchzhk\"], [\"2-4 z\", \"vtzz\"], [\"1-4 q\", \"mqqnqq\"], [\"5-7 v\", \"vnvvvvv\"], [\"1-3 h\", \"hlcsjhs\"], [\"8-19 s\", \"stsssspqwsssssssssss\"], [\"1-3 f\", \"nffn\"], [\"11-12 n\", \"nnnnnnnnknnjwnn\"], [\"4-6 w\", \"wwwkww\"], [\"10-17 p\", \"ppwppzpppvqppszbxp\"], [\"3-10 d\", \"ndnddmwdsnpdkbn\"], [\"7-9 f\", \"ffffffwtf\"], [\"9-11 l\", \"lhndlllllljmqccll\"], [\"4-7 v\", \"tdgsvvjvvqvvvn\"], [\"13-14 k\", \"kkkgkkkkgkkkkkkh\"], [\"2-6 x\", \"xxxxjllxsx\"], [\"9-12 v\", \"vvvvvvvvsvvv\"], [\"12-14 z\", \"zzzzzpzzzzzvzcz\"], [\"14-15 w\", \"wwwwwvwwwwwwwwpw\"], [\"2-8 m\", \"hhtmwxgm\"], [\"5-13 z\", \"zpzzwzzzzfwzdznzmwzf\"], [\"4-6 x\", \"xfxxxg\"], [\"5-10 f\", \"nfxffpffffffpf\"], [\"13-14 h\", \"phhhhhhhwtrhjhfhhhh\"], [\"2-3 p\", \"pxxp\"], [\"4-5 g\", \"gggngg\"], [\"4-6 t\", \"bdltkmtttcwctm\"], [\"12-13 g\", \"gpggwghghcgghgggkpgg\"], [\"2-12 l\", \"lllmxrnlgllvlwltcl\"], [\"1-4 g\", \"grgk\"], [\"5-9 k\", \"lxkhkklkbkdqlkk\"], [\"4-7 r\", \"pjgrzzrrgpxnckxzrcxc\"], [\"4-5 m\", \"mmmmm\"], [\"2-3 w\", \"wtwx\"], [\"9-10 p\", \"ptfpsfpjpnvppxpghpp\"], [\"15-17 m\", \"mmmmmmmmmmxmmmqldmrm\"], [\"5-7 f\", \"flfqfffvffn\"], [\"1-2 b\", \"kzbb\"], [\"2-9 c\", \"cccccccbjjv\"], [\"9-16 h\", \"hshhhtjhthhhwhkh\"], [\"2-10 b\", \"fmwfbcdwvbj\"], [\"8-10 j\", \"jjjjjjjrjjj\"], [\"1-7 x\", \"xtxzjwdxmcjdh\"], [\"4-5 j\", \"jjjrjj\"], [\"3-7 f\", \"ffvfffnf\"], [\"2-5 m\", \"fmkhm\"], [\"6-12 j\", \"jgwjjjjjxjvjjqdjg\"], [\"2-5 j\", \"kjxjtrl\"], [\"3-6 b\", \"bhtxxhjbxbbb\"], [\"2-9 h\", \"mhhhhhhhh\"], [\"11-13 n\", \"nnnnnnnnnnnnhn\"], [\"3-4 h\", \"phxhh\"], [\"9-11 h\", \"hhhhhhhhhhg\"], [\"5-6 l\", \"lllljl\"], [\"4-12 w\", \"gmgtvwfwcwwwb\"], [\"2-7 k\", \"hkkmsspkrm\"], [\"3-7 k\", \"tlklhkwk\"], [\"3-5 c\", \"chgzcccd\"], [\"9-19 x\", \"xxxxxxxxxxxxxxxxxxqx\"], [\"3-4 b\", \"bbxbbz\"], [\"1-3 f\", \"fhhf\"], [\"1-3 j\", \"jjnj\"], [\"8-9 n\", \"nnnnnnnnn\"], [\"10-11 m\", \"mmmmmmmmmmh\"], [\"5-6 n\", \"rldnpnnlxnbjmgnxncv\"], [\"7-8 f\", \"pnrcpmgffzjffffrxf\"], [\"5-9 n\", \"nffdnnnnqnnm\"], [\"10-18 s\", \"sssssvsskxssssrsbsss\"], [\"4-5 b\", \"bbbbkb\"], [\"7-9 r\", \"rjcfrhrqmrrrrrr\"], [\"15-19 q\", \"qcqqqqqqqqqqqqhqqjsq\"], [\"2-4 n\", \"cnwn\"], [\"4-5 p\", \"sncdvppkphpp\"], [\"4-10 m\", \"gmpmmmrqmqcm\"], [\"7-10 d\", \"hmddhvnddznddd\"], [\"8-11 b\", \"bvhbsbnbhbmbfjbqbr\"], [\"5-7 q\", \"wqqqqqgq\"], [\"4-14 n\", \"nnnrfsnndncmnnmdw\"], [\"3-12 c\", \"ktcccvpzgkfqcc\"], [\"3-6 l\", \"lllllv\"], [\"1-3 q\", \"fqmqq\"], [\"14-15 z\", \"zzzzzzzzzzzzzwz\"], [\"5-11 z\", \"zzmzbxzjzzzzp\"], [\"15-18 r\", \"rrrrrrrrrrrrrrrrrlr\"], [\"10-11 c\", \"ccccccccccfc\"], [\"5-16 t\", \"ttstjrttzbttjltktk\"], [\"6-12 g\", \"lgwgdfdzggggj\"], [\"15-17 v\", \"vvvvvvvvvjvvvvvhgv\"], [\"1-5 n\", \"cnnnnn\"], [\"5-7 w\", \"mwwwxww\"], [\"9-12 w\", \"wvwwwpwwwwwbvwwm\"], [\"13-15 z\", \"czzrzzzzzhzzzzzzzz\"], [\"7-17 g\", \"gggggglggggggggggg\"], [\"2-4 r\", \"rjfzr\"], [\"5-6 n\", \"nnnnsnbmn\"], [\"3-10 d\", \"ddrdddlrnrchdfddd\"], [\"7-11 s\", \"sswssnssssfsn\"], [\"2-5 q\", \"jqdqq\"], [\"4-6 c\", \"mczcccc\"], [\"11-13 b\", \"crbbhxbbbbbfxbbbbx\"], [\"10-11 k\", \"kkjkkkkkqckkk\"], [\"2-6 r\", \"rrsntpc\"], [\"2-17 q\", \"qcpzdqfbqqqqqqqqw\"], [\"2-5 d\", \"fvdpddbkq\"], [\"1-8 q\", \"dqqqfqzz\"], [\"12-13 w\", \"wkwwwwntwwwtwktmwwww\"], [\"13-19 s\", \"ssssssssxssskssssss\"], [\"8-10 k\", \"kkkkkkkbkxkk\"], [\"10-13 r\", \"rrrjrprrjrrrvr\"], [\"2-3 b\", \"wbbc\"], [\"17-18 p\", \"pppppgppppppppppxppp\"], [\"5-14 v\", \"vdvlvvjzvdvpvc\"], [\"3-12 x\", \"xnxxxtjxxkxxxxx\"], [\"5-6 b\", \"gqzbbvbbbb\"], [\"6-10 k\", \"kkhxqkkkkkcncxgkk\"], [\"9-10 j\", \"jjjjjjjjcsjj\"], [\"4-9 t\", \"wzttttxgthbfbbt\"], [\"2-12 v\", \"vzvvvkpfvprwmvxjgsvd\"], [\"3-9 t\", \"lttcmtrntxwjhhmqhnbc\"], [\"3-8 h\", \"hhvhbhhhh\"], [\"4-5 z\", \"mzzzz\"], [\"6-7 g\", \"ggggggg\"], [\"4-6 r\", \"rrcrfrg\"], [\"2-4 n\", \"ngndn\"], [\"4-9 x\", \"dxxxxxxqvqcxfdjzx\"], [\"7-13 q\", \"qqqttqqxmfqqlzqpqqq\"], [\"8-11 g\", \"gggggggpgggg\"], [\"1-3 q\", \"qqtktrq\"], [\"6-9 r\", \"rrrbrzrrc\"], [\"9-11 r\", \"rrrrrrrrsrrr\"], [\"3-9 d\", \"lsvdztpddd\"], [\"9-12 z\", \"xzzzzzzgzzzcztzz\"], [\"3-13 f\", \"fkffdzbtdffpfgjffff\"], [\"1-2 d\", \"hdtnbxqdjnmsksm\"], [\"6-9 r\", \"rlrrmxdrrrr\"], [\"8-9 c\", \"cccccccmc\"], [\"5-13 w\", \"wtwzkwwwjwxdwwvgbwjg\"], [\"5-11 f\", \"fjfffgfffdlf\"], [\"6-7 l\", \"llllllcl\"], [\"4-6 g\", \"ggglggg\"], [\"11-12 r\", \"rrrrrrrrrrrx\"], [\"3-4 r\", \"rrrr\"], [\"4-8 p\", \"sbpppdrpppmplfq\"], [\"9-11 m\", \"vwmmmdpxlczmwmmmmgmj\"], [\"2-12 k\", \"kkkkchsksjwbkkw\"], [\"8-17 r\", \"rrrrrrvrkrlrrrrtz\"], [\"8-9 v\", \"vvvvvvvkv\"], [\"5-6 b\", \"bttbbbb\"], [\"7-9 f\", \"rfwfffnmvjwktfwfff\"], [\"4-9 k\", \"kkkckxkgz\"], [\"5-6 r\", \"rrdrrsrr\"], [\"1-2 p\", \"qplxp\"], [\"4-16 c\", \"ccccccczfwphcbcmc\"], [\"4-10 n\", \"nnnrnnnnnnn\"], [\"4-6 g\", \"pgnvgwttgfg\"], [\"6-7 b\", \"bbbbbbt\"], [\"6-15 m\", \"qxhmlmmxmmnmmmppmrtn\"], [\"10-16 n\", \"shknnnnqnnclnjnnn\"], [\"1-3 z\", \"xzlz\"], [\"1-4 s\", \"mssss\"], [\"1-7 p\", \"bbppppppkgp\"], [\"4-6 g\", \"ggpgggg\"], [\"2-3 z\", \"dzzz\"], [\"6-11 t\", \"xlthtttttccbqtrvqqst\"], [\"7-10 r\", \"rrwrrrrrrx\"], [\"10-11 z\", \"zvzzwzzskzkzzzzqc\"], [\"4-8 r\", \"rrrxvrrsrw\"], [\"5-11 r\", \"mrrptkrtrqjsrr\"], [\"8-9 f\", \"fffpfffhfcf\"], [\"2-3 x\", \"xltcxkg\"], [\"4-7 k\", \"ckkcqkk\"], [\"2-5 p\", \"qvfpp\"], [\"4-7 k\", \"wkkkcfkrkhxd\"], [\"12-18 g\", \"gggggggggggjgggggxg\"], [\"6-10 p\", \"pppppppppp\"], [\"4-6 w\", \"fgwwwwwcbkw\"], [\"1-5 l\", \"blllll\"], [\"3-4 t\", \"nrtbtstxwt\"], [\"1-3 h\", \"xchh\"], [\"16-17 f\", \"ffffftfffffffffff\"], [\"1-9 m\", \"mkmbjmpbr\"], [\"3-5 x\", \"xxxxx\"], [\"9-10 f\", \"ffffjvrfgfffff\"], [\"4-10 q\", \"lqqbqqqqqgqq\"], [\"8-11 n\", \"pbfnnnwntnnnn\"], [\"1-15 j\", \"jjjjjjjjjjjjjjj\"], [\"3-12 b\", \"zbbsdblxbqvbp\"], [\"4-7 k\", \"kgdhskkkklkmfgnkrtm\"], [\"9-10 s\", \"sssshssfsjpxssvc\"], [\"2-4 w\", \"whlhw\"], [\"11-16 z\", \"zzbzzzzzzztzzzzsz\"], [\"8-10 x\", \"txmxxvxpxxxxxmmlrnj\"], [\"4-9 v\", \"vvvbbvvvvb\"], [\"7-14 h\", \"hhvxcrhhkhhhtrbwtghx\"], [\"9-10 h\", \"hhfkhchhhpwsphhjdhhc\"], [\"3-5 q\", \"qqqqtq\"], [\"4-5 f\", \"ffmftff\"], [\"3-13 l\", \"llwmlldllfjlt\"], [\"2-3 j\", \"jjbj\"], [\"6-11 r\", \"rnwdrpjrrpxrwrr\"], [\"2-4 m\", \"mccmm\"], [\"8-12 p\", \"pppppvpppkpdppp\"], [\"2-5 h\", \"hcbhcl\"], [\"12-13 c\", \"ccccccccjcccgc\"], [\"2-9 r\", \"nsrqvqtrrd\"], [\"1-4 r\", \"trrr\"], [\"7-11 t\", \"thtbhtxprtcttttt\"], [\"9-11 t\", \"ttttttttpttt\"], [\"1-4 p\", \"pnpp\"], [\"2-4 f\", \"fvfvf\"], [\"2-3 f\", \"mffjfj\"], [\"8-14 b\", \"bbbbrbwbbjbbbzbb\"], [\"4-17 v\", \"vlvmvvvvvnwtvvvnvvhv\"], [\"16-17 w\", \"wwwwwwbtjwwwwwwwwww\"], [\"1-2 n\", \"ndng\"], [\"13-14 z\", \"zzzzzzzzzzzzzvz\"], [\"8-10 l\", \"lllllllxlkl\"], [\"8-9 s\", \"ssssssssp\"], [\"9-12 s\", \"sdsssssvssss\"], [\"2-3 g\", \"ggxv\"], [\"6-9 c\", \"cccpcjccc\"], [\"3-4 f\", \"ffwff\"], [\"8-14 k\", \"dkkgkkzkqkkkzwj\"], [\"12-15 g\", \"gsggrgglggngggrglggt\"], [\"3-6 w\", \"wwwpch\"], [\"5-6 n\", \"nnnnnbn\"], [\"11-15 t\", \"ttttttttttttttt\"], [\"3-4 f\", \"fffn\"], [\"5-7 b\", \"bbbbbbtb\"], [\"17-20 l\", \"lllllllnllllllllpllg\"], [\"10-18 h\", \"hhhhphhhmnhhhnhhvhhh\"], [\"2-5 k\", \"fndkkkksvbk\"], [\"3-16 k\", \"kkkkkkkkkkkkkkkzk\"], [\"13-14 z\", \"zzzpzzzzzzzzszz\"], [\"1-6 n\", \"dwngnnrnnn\"], [\"4-9 n\", \"nnghfsvnnp\"], [\"8-9 p\", \"pppllpprnppp\"], [\"13-17 d\", \"ddddrnddddddbdddd\"], [\"2-14 w\", \"rptqzcsdvbjctwsfkwb\"], [\"3-6 x\", \"mhxxqx\"], [\"17-18 t\", \"ttttttttttttttttjt\"], [\"1-2 q\", \"zcgfq\"], [\"5-12 q\", \"qwqpqpmkhqqj\"], [\"9-12 j\", \"bjjqjjjjgjjj\"], [\"2-6 q\", \"qngktqqqw\"], [\"1-2 z\", \"nzfzlfdqk\"], [\"3-10 m\", \"jmrwmhwmmxdmmmm\"], [\"3-4 m\", \"mmmg\"], [\"2-7 z\", \"frrzczznn\"], [\"3-7 k\", \"kbkkrgkgzmtlkwkljcq\"], [\"2-6 k\", \"hknhpk\"], [\"5-13 p\", \"pppptppppppppp\"], [\"8-14 j\", \"jjjpjqxhjbjjjjjj\"], [\"2-5 m\", \"mwpfmrnscgpbbbwt\"], [\"8-12 d\", \"lbddddvdmddddzdddl\"], [\"2-3 j\", \"jhrj\"], [\"8-9 w\", \"wwwwwwwww\"], [\"11-12 f\", \"fffffgfffffcf\"], [\"3-4 n\", \"nnnh\"], [\"4-8 h\", \"dztmrvhhchhhh\"], [\"13-18 l\", \"llllllllllllfllllll\"], [\"2-3 s\", \"tzssns\"], [\"4-6 p\", \"ppppphprln\"], [\"5-7 g\", \"cjljggsgvlkgqlg\"], [\"2-3 w\", \"nfwwqklwr\"], [\"2-3 l\", \"hllw\"], [\"3-13 v\", \"vvvzvzvgvxlzflvr\"], [\"4-5 k\", \"fbkkwxkrpxtkctjzhndk\"], [\"6-11 g\", \"zggggndgggsggg\"], [\"5-6 b\", \"xlbbbbb\"], [\"7-11 s\", \"sssszssmsss\"], [\"2-3 n\", \"wnknrjwtqcksmlw\"], [\"9-10 j\", \"jjjjjjjjjp\"], [\"3-5 f\", \"hbfnfjkmfpnfjfv\"], [\"2-4 r\", \"rbqr\"], [\"1-11 q\", \"qqqqqqqqqqzq\"], [\"2-13 k\", \"kkmqckkgqqntkmr\"], [\"2-4 j\", \"vjzjj\"], [\"2-10 x\", \"dxhqtxtbkxnnpcrbtgp\"], [\"3-9 d\", \"ddhdvzpdw\"], [\"9-18 f\", \"flpgfvffsffwfffgsk\"], [\"14-17 t\", \"tttttttxtttttttttt\"], [\"12-15 b\", \"bbbbbbbbbbbbbbqfb\"], [\"4-9 t\", \"ttfhtftwt\"], [\"4-5 f\", \"ffvff\"], [\"4-18 s\", \"jssjsssssssssssnsvms\"], [\"2-5 z\", \"tzzsz\"], [\"9-17 g\", \"nwpqgggbggjfgggmglhd\"], [\"5-6 c\", \"kccdbccc\"], [\"3-4 r\", \"rgrr\"], [\"9-15 d\", \"dqddhddngdddddnzd\"], [\"8-9 q\", \"qqhqqqqczqq\"], [\"6-15 k\", \"llfkkknskkbkkkbkkjkk\"], [\"14-15 z\", \"zzvzzzzzzzzzznczz\"], [\"9-12 d\", \"ddddjrddmddnd\"], [\"9-12 g\", \"gbdgggnggcggpg\"], [\"5-9 c\", \"ccvshdqtcvcczl\"], [\"9-10 v\", \"xvvtfxrvxvvvvvtvbc\"], [\"5-6 g\", \"gggggm\"], [\"1-6 j\", \"djjjjjj\"], [\"2-6 p\", \"dpcjksgxtp\"], [\"1-8 t\", \"gchtttbtt\"], [\"4-12 j\", \"sjjjmzjjjjjpj\"], [\"7-15 t\", \"tslntctttxtkgtm\"], [\"1-8 k\", \"kkkkkntkkcdqk\"], [\"5-6 m\", \"mmmmmm\"], [\"3-4 h\", \"hgxhjchhlpms\"], [\"1-2 r\", \"drcr\"], [\"19-20 l\", \"llllllllllllllllllll\"], [\"2-7 g\", \"fmggdgggx\"]]"
      ]
     },
     "execution_count": 16,
     "metadata": {},
     "output_type": "execute_result"
    }
   ],
   "source": [
    "data.select do |condition, pass|\n",
    "  keys, val = condition.split(' ')\n",
    "  low, high = keys.split(\"-\").map &:to_i\n",
    "  (low..high).cover? pass.count(val)\n",
    "end"
   ]
  },
  {
   "cell_type": "code",
   "execution_count": 17,
   "metadata": {},
   "outputs": [
    {
     "data": {
      "text/plain": [
       "536"
      ]
     },
     "execution_count": 17,
     "metadata": {},
     "output_type": "execute_result"
    }
   ],
   "source": [
    "_.count"
   ]
  },
  {
   "cell_type": "code",
   "execution_count": 27,
   "metadata": {},
   "outputs": [
    {
     "data": {
      "text/plain": [
       "558"
      ]
     },
     "execution_count": 27,
     "metadata": {},
     "output_type": "execute_result"
    }
   ],
   "source": [
    "data.count do |condition, pass|\n",
    "  positions, val = condition.split(' ')\n",
    "  positions = positions.split(\"-\").map &:to_i\n",
    "  positions.count {|pos| pass[pos-1] == val } == 1\n",
    "end"
   ]
  },
  {
   "cell_type": "code",
   "execution_count": null,
   "metadata": {
    "collapsed": true
   },
   "outputs": [],
   "source": []
  }
 ],
 "metadata": {
  "kernelspec": {
   "display_name": "Ruby 2.4.1",
   "language": "ruby",
   "name": "ruby"
  },
  "language_info": {
   "file_extension": ".rb",
   "mimetype": "application/x-ruby",
   "name": "ruby",
   "version": "2.4.1"
  }
 },
 "nbformat": 4,
 "nbformat_minor": 2
}
