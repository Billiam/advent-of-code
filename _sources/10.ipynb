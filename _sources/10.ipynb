{
 "cells": [
  {
   "cell_type": "markdown",
   "metadata": {},
   "source": [
    "# Day 10"
   ]
  },
  {
   "cell_type": "code",
   "execution_count": 256,
   "metadata": {},
   "outputs": [
    {
     "data": {
      "text/plain": [
       "[1, 2, 3, 6, 7, 10, 11, 12, 13, 14, 17, 18, 19, 22, 23, 24, 25, 28, 31, 32, 33, 34, 35, 38, 39, 40, 41, 42, 45, 48, 51, 52, 53, 54, 57, 58, 59, 60, 63, 66, 69, 70, 71, 72, 73, 76, 77, 78, 79, 82, 83, 84, 85, 86, 89, 92, 93, 94, 95, 96, 99, 100, 101, 102, 103, 106, 107, 108, 111, 112, 113, 114, 115, 118, 121, 122, 125, 126, 127, 128, 131, 134, 135, 136, 137, 138, 141, 142, 143, 144, 145, 148, 151, 152, 153, 154, 157, 160, 163, 164, 165, 166, 167, 170, 173, 176, 177, 180, 181, 182, 183]"
      ]
     },
     "execution_count": 256,
     "metadata": {},
     "output_type": "execute_result"
    }
   ],
   "source": [
    "data = File.read('10.txt').split(\"\\n\").map(&:to_i).sort"
   ]
  },
  {
   "cell_type": "code",
   "execution_count": 257,
   "metadata": {},
   "outputs": [
    {
     "data": {
      "text/plain": [
       "[0, 1, 2, 3, 6, 7, 10, 11, 12, 13, 14, 17, 18, 19, 22, 23, 24, 25, 28, 31, 32, 33, 34, 35, 38, 39, 40, 41, 42, 45, 48, 51, 52, 53, 54, 57, 58, 59, 60, 63, 66, 69, 70, 71, 72, 73, 76, 77, 78, 79, 82, 83, 84, 85, 86, 89, 92, 93, 94, 95, 96, 99, 100, 101, 102, 103, 106, 107, 108, 111, 112, 113, 114, 115, 118, 121, 122, 125, 126, 127, 128, 131, 134, 135, 136, 137, 138, 141, 142, 143, 144, 145, 148, 151, 152, 153, 154, 157, 160, 163, 164, 165, 166, 167, 170, 173, 176, 177, 180, 181, 182, 183, 186]"
      ]
     },
     "execution_count": 257,
     "metadata": {},
     "output_type": "execute_result"
    }
   ],
   "source": [
    "data.unshift(0)\n",
    "data << data.max + 3"
   ]
  },
  {
   "cell_type": "code",
   "execution_count": 274,
   "metadata": {},
   "outputs": [
    {
     "data": {
      "text/plain": [
       "[1, 1, 1, 3, 1, 3, 1, 1, 1, 1, 3, 1, 1, 3, 1, 1, 1, 3, 3, 1, 1, 1, 1, 3, 1, 1, 1, 1, 3, 3, 3, 1, 1, 1, 3, 1, 1, 1, 3, 3, 3, 1, 1, 1, 1, 3, 1, 1, 1, 3, 1, 1, 1, 1, 3, 3, 1, 1, 1, 1, 3, 1, 1, 1, 1, 3, 1, 1, 3, 1, 1, 1, 1, 3, 3, 1, 3, 1, 1, 1, 3, 3, 1, 1, 1, 1, 3, 1, 1, 1, 1, 3, 3, 1, 1, 1, 3, 3, 3, 1, 1, 1, 1, 3, 3, 3, 1, 3, 1, 1, 1, 3]"
      ]
     },
     "execution_count": 274,
     "metadata": {},
     "output_type": "execute_result"
    }
   ],
   "source": [
    "diffs = data.each_with_index.map {|v, i| v - data[i-1]}.drop(1)"
   ]
  },
  {
   "cell_type": "code",
   "execution_count": 266,
   "metadata": {},
   "outputs": [
    {
     "data": {
      "text/plain": [
       "2775"
      ]
     },
     "execution_count": 266,
     "metadata": {},
     "output_type": "execute_result"
    }
   ],
   "source": [
    "diffs.count(1) * diffs.count(3)"
   ]
  },
  {
   "cell_type": "markdown",
   "metadata": {},
   "source": [
    "## Part 2"
   ]
  },
  {
   "cell_type": "code",
   "execution_count": 291,
   "metadata": {},
   "outputs": [
    {
     "data": {
      "text/plain": [
       "518344341716992"
      ]
     },
     "execution_count": 291,
     "metadata": {},
     "output_type": "execute_result"
    }
   ],
   "source": [
    "@groups = (data + Array.new(3)).each_cons(4).map do |v, *upcoming|  \n",
    "  [v, upcoming.compact.select{|up| up - v <= 3}]\n",
    "end.to_h\n",
    "\n",
    "@cache = {}\n",
    "def path(n)\n",
    "  return 1 if @groups[n].empty?\n",
    "\n",
    "  @cache[n] ||= @groups[n].map do |i|\n",
    "    path(i)\n",
    "  end.sum\n",
    "end\n",
    "\n",
    "path(0)"
   ]
  },
  {
   "cell_type": "code",
   "execution_count": null,
   "metadata": {},
   "outputs": [],
   "source": []
  },
  {
   "cell_type": "code",
   "execution_count": null,
   "metadata": {},
   "outputs": [],
   "source": []
  }
 ],
 "metadata": {
  "kernelspec": {
   "display_name": "Ruby 2.7.0",
   "language": "ruby",
   "name": "ruby"
  },
  "language_info": {
   "file_extension": ".rb",
   "mimetype": "application/x-ruby",
   "name": "ruby",
   "version": "2.7.0"
  }
 },
 "nbformat": 4,
 "nbformat_minor": 2
}
