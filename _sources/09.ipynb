{
 "cells": [
  {
   "cell_type": "markdown",
   "metadata": {},
   "source": [
    "# Day 9"
   ]
  },
  {
   "cell_type": "code",
   "execution_count": 22,
   "metadata": {},
   "outputs": [],
   "source": [
    "data = File.read('9.txt').split(\"\\n\").map(&:to_i);nil"
   ]
  },
  {
   "cell_type": "code",
   "execution_count": 42,
   "metadata": {},
   "outputs": [
    {
     "data": {
      "text/plain": [
       "556543474"
      ]
     },
     "execution_count": 42,
     "metadata": {},
     "output_type": "execute_result"
    }
   ],
   "source": [
    "data.each_with_index do |num, i|\n",
    "  next if i < 26\n",
    "  previous_set = data[(i-25)..(i-1)]\n",
    "  found = previous_set.permutation(2).find{|i| i.sum == num }\n",
    "  break num unless found\n",
    "end"
   ]
  },
  {
   "cell_type": "markdown",
   "metadata": {},
   "source": [
    "## Part 2\n",
    "\n",
    "Misread this problem _three times_"
   ]
  },
  {
   "cell_type": "code",
   "execution_count": 40,
   "metadata": {},
   "outputs": [
    {
     "data": {
      "text/plain": [
       "76096372"
      ]
     },
     "execution_count": 40,
     "metadata": {},
     "output_type": "execute_result"
    }
   ],
   "source": [
    "input = 556543474\n",
    "found_sum = false\n",
    "data.each_with_index do |num, i|\n",
    "  data[(i+1)..-1].inject([]) do |total, n|\n",
    "    total << n\n",
    "    sum = total.sum\n",
    "    \n",
    "    break if sum > input\n",
    "    \n",
    "    if sum == input\n",
    "      found_sum = [total.min, total.max].sum\n",
    "      break\n",
    "    end\n",
    "\n",
    "    total\n",
    "  end\n",
    "  break found_sum if found_sum\n",
    "end"
   ]
  },
  {
   "cell_type": "code",
   "execution_count": null,
   "metadata": {},
   "outputs": [],
   "source": []
  }
 ],
 "metadata": {
  "kernelspec": {
   "display_name": "Ruby 2.7.0",
   "language": "ruby",
   "name": "ruby"
  },
  "language_info": {
   "file_extension": ".rb",
   "mimetype": "application/x-ruby",
   "name": "ruby",
   "version": "2.7.0"
  }
 },
 "nbformat": 4,
 "nbformat_minor": 2
}
