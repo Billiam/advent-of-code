{
 "cells": [
  {
   "cell_type": "markdown",
   "metadata": {},
   "source": [
    "# Day 15"
   ]
  },
  {
   "cell_type": "code",
   "execution_count": 460,
   "metadata": {},
   "outputs": [
    {
     "data": {
      "text/plain": [
       "[7, 14, 0, 17, 11, 1, 2]"
      ]
     },
     "execution_count": 460,
     "metadata": {},
     "output_type": "execute_result"
    }
   ],
   "source": [
    "data = [7,14,0,17,11,1,2].freeze"
   ]
  },
  {
   "cell_type": "code",
   "execution_count": 461,
   "metadata": {},
   "outputs": [
    {
     "data": {
      "text/plain": [
       "{7=>0, 14=>1, 0=>2, 17=>3, 11=>4, 1=>5}"
      ]
     },
     "execution_count": 461,
     "metadata": {},
     "output_type": "execute_result"
    }
   ],
   "source": [
    "ocache = data.reverse.drop(1).reverse.each_with_index.to_h.freeze"
   ]
  },
  {
   "cell_type": "code",
   "execution_count": 463,
   "metadata": {},
   "outputs": [
    {
     "name": "stdout",
     "output_type": "stream",
     "text": [
      "206\n"
     ]
    }
   ],
   "source": [
    "cache=Marshal.load(Marshal.dump(ocache))\n",
    "n=data.last\n",
    "\n",
    "((data.count - 1)...(2020 - 1)).each do |i|\n",
    "  if v=cache[n]\n",
    "    next_val = i - v\n",
    "    cache[n] = i\n",
    "    n = next_val\n",
    "  else\n",
    "    cache[n] = i\n",
    "    n = 0\n",
    "  end\n",
    "\n",
    "  if i % 1_000_000 == 0\n",
    "    print \"/\"\n",
    "  end\n",
    "end\n",
    "puts n"
   ]
  },
  {
   "cell_type": "markdown",
   "metadata": {},
   "source": [
    "## Easy performance improvements\n",
    "\n",
    "I used the above to get the part 2 solution, and a version where the cache contained two rolling values for each number. It took around 15-30 seconds per million. :/\n",
    "\n",
    "\n",
    "Much of the time spent during the loop is spent accessing the lookup hash in the global scope\n",
    "Moving the variables more local improves cost significantly, event with the added price of\n",
    "additional array creation etc."
   ]
  },
  {
   "cell_type": "code",
   "execution_count": 479,
   "metadata": {
    "scrolled": true
   },
   "outputs": [
    {
     "name": "stdout",
     "output_type": "stream",
     "text": [
      "                      user     system      total        real\n",
      "Global lookup     8.420360   0.000000   8.420360 (  8.429577)\n",
      "Local lookup      4.282466   0.003861   4.286327 (  4.290906)\n",
      "Local key         4.299350   0.000000   4.299350 (  4.303004)\n",
      "lookup + key      0.099704   0.000000   0.099704 (  0.099510)\n",
      "Method scope      0.061123   0.000000   0.061123 (  0.061131)\n"
     ]
    }
   ],
   "source": [
    "require 'benchmark'\n",
    "\n",
    "cache=Marshal.load(Marshal.dump(ocache))\n",
    "n=data.last\n",
    "\n",
    "def in_method(count, cache, n)\n",
    "  count.times do |i|\n",
    "    cache[n]\n",
    "  end\n",
    "end\n",
    "\n",
    "Benchmark.bm(15) do |x|\n",
    "  x.report(\"Global lookup\") do\n",
    "    1_000_000.times do\n",
    "      cache[n]\n",
    "    end\n",
    "  end\n",
    "\n",
    "  x.report(\"Local lookup\") do\n",
    "    1_000_000.times.inject(cache) do |cache|\n",
    "      cache[n]\n",
    "      \n",
    "      cache\n",
    "    end\n",
    "  end\n",
    "  \n",
    "  x.report(\"Local key\") do\n",
    "    1_000_000.times.inject(n) do |n|\n",
    "      cache[n]\n",
    "      \n",
    "      n\n",
    "    end\n",
    "  end\n",
    "  \n",
    "  x.report(\"lookup + key\") do\n",
    "    1_000_000.times.inject([cache, n]) do |c, n|\n",
    "      c[n]\n",
    "      \n",
    "      [c, n]\n",
    "    end\n",
    "  end\n",
    "  \n",
    "  x.report(\"Method scope\") do\n",
    "    in_method(1_000_000, cache, n)\n",
    "  end \n",
    "end;nil"
   ]
  },
  {
   "cell_type": "code",
   "execution_count": 482,
   "metadata": {},
   "outputs": [
    {
     "name": "stdout",
     "output_type": "stream",
     "text": [
      "  6.201681   0.023926   6.225607 (  6.236146)\n",
      "\n"
     ]
    },
    {
     "data": {
      "text/plain": [
       "955"
      ]
     },
     "execution_count": 482,
     "metadata": {},
     "output_type": "execute_result"
    }
   ],
   "source": [
    "cache=Marshal.load(Marshal.dump(ocache))\n",
    "n=data.last\n",
    "\n",
    "def run(cache, n, starting, ending)\n",
    "  (starting...ending).each do |i|\n",
    "    if v=cache[n]\n",
    "      next_val = i - v\n",
    "      cache[n] = i\n",
    "      n = next_val\n",
    "    else\n",
    "      cache[n] = i\n",
    "      n = 0\n",
    "    end\n",
    "  end\n",
    "  n\n",
    "end\n",
    "\n",
    "puts Benchmark.measure {\n",
    "  n=run(cache, n, data.count-1, 30_000_000-1)\n",
    "}\n",
    "n"
   ]
  },
  {
   "cell_type": "markdown",
   "metadata": {},
   "source": [
    "### Enumerator\n",
    "\n",
    "Slower, but nicer interface"
   ]
  },
  {
   "cell_type": "code",
   "execution_count": 551,
   "metadata": {},
   "outputs": [
    {
     "name": "stdout",
     "output_type": "stream",
     "text": [
      "       user     system      total        real\n",
      "next 19.691053   0.143800  19.834853 ( 19.859294)\n",
      "find 13.011795   0.011868  13.023663 ( 13.045248)\n",
      "drop 13.300430   0.007862  13.308292 ( 13.330321)\n"
     ]
    }
   ],
   "source": [
    "def memory_game(data)\n",
    "  Enumerator.new do |yielder|\n",
    "    all_but_last = data.reverse.drop(1).reverse\n",
    "    cache = all_but_last.each_with_index.to_h\n",
    "\n",
    "    data.each {|i| yielder.yield(i) }\n",
    "    n = data.last\n",
    "\n",
    "    loop.with_index(data.count - 1) do |_, i|\n",
    "      if v=cache[n]\n",
    "        next_val = i - v\n",
    "        cache[n] = i\n",
    "        n = next_val\n",
    "      else\n",
    "        cache[n] = i\n",
    "        n = 0\n",
    "      end\n",
    "      \n",
    "      yielder.yield(n)\n",
    "    end\n",
    "  end\n",
    "end\n",
    "\n",
    "Benchmark.bm do |x|\n",
    "  index = 30_000_000 - 1\n",
    "  \n",
    "  x.report(\"next\") do\n",
    "    sequence = memory_game(data)\n",
    "    index.times { sequence.next }\n",
    "    n = sequence.next\n",
    "  end\n",
    "  \n",
    "  x.report(\"find\") do\n",
    "    n = memory_game(data).find.with_index {|_n, i| i == index }\n",
    "  end\n",
    "  \n",
    "  x.report(\"drop\") do\n",
    "    n = memory_game(data).lazy.drop(index).first\n",
    "  end\n",
    "end;nil"
   ]
  }
 ],
 "metadata": {
  "kernelspec": {
   "display_name": "Ruby 2.7.0",
   "language": "ruby",
   "name": "ruby"
  },
  "language_info": {
   "file_extension": ".rb",
   "mimetype": "application/x-ruby",
   "name": "ruby",
   "version": "2.7.0"
  }
 },
 "nbformat": 4,
 "nbformat_minor": 2
}
