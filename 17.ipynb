{
 "cells": [
  {
   "cell_type": "markdown",
   "metadata": {},
   "source": [
    "# Day 17"
   ]
  },
  {
   "cell_type": "code",
   "execution_count": 9,
   "metadata": {},
   "outputs": [
    {
     "data": {
      "text/plain": [
       "[[true, false, true, true, false, false, false, false], [false, true, false, true, false, true, true, false], [true, true, true, false, false, false, false, false], [false, false, false, false, true, true, false, true], [true, false, false, false, false, true, true, true], [false, true, false, true, false, true, false, false], [false, true, true, false, false, false, true, true], [true, false, false, true, false, true, true, true]]"
      ]
     },
     "execution_count": 9,
     "metadata": {},
     "output_type": "execute_result"
    }
   ],
   "source": [
    "data = File.read(\"17.txt\").split(\"\\n\").map {|i| i.split(\"\").map {|n| n==\"#\"}}"
   ]
  },
  {
   "cell_type": "code",
   "execution_count": 3,
   "metadata": {},
   "outputs": [
    {
     "name": "stdout",
     "output_type": "stream",
     "text": [
      "1418\n"
     ]
    },
    {
     "data": {
      "text/plain": [
       "230"
      ]
     },
     "execution_count": 3,
     "metadata": {},
     "output_type": "execute_result"
    }
   ],
   "source": [
    "@grid = Hash.new { false }\n",
    "\n",
    "data.flat_map.with_index do |row, rown|\n",
    "  row.map.with_index do |cell, celln|\n",
    "    [[rown, celln, 0], cell]\n",
    "  end\n",
    "end.each do |k,v|\n",
    "  @grid[k] = v\n",
    "end\n",
    "\n",
    "def neighbors((x,y,z))\n",
    "  @dirs ||= [-1, 0, 1].repeated_permutation(3).to_a - [[0,0,0]]\n",
    "  @dirs.map do |x1,y1,z1|\n",
    "    k = [x+x1,y+y1,z+z1]\n",
    "    [k, @grid[k]]\n",
    "  end\n",
    "end\n",
    "\n",
    "def active_neighbors(k)\n",
    "  neighbors(k).select(&:last)\n",
    "end\n",
    "\n",
    "def update\n",
    "  cells = @grid.select{|k,v| v}.flat_map do |k,v|\n",
    "    neighbors(k)\n",
    "  end.uniq.map do |k,v|\n",
    "    n=active_neighbors(k).count\n",
    "    v = if v\n",
    "      n == 2 || n == 3\n",
    "    else\n",
    "      n == 3\n",
    "    end\n",
    "    [k,v]\n",
    "  end.to_h\n",
    "end\n",
    "\n",
    "6.times { @grid = update }\n",
    "puts @grid.values.count\n",
    "@grid.values.select(&:itself).count"
   ]
  },
  {
   "cell_type": "markdown",
   "metadata": {},
   "source": [
    "## Part 2"
   ]
  },
  {
   "cell_type": "code",
   "execution_count": 7,
   "metadata": {
    "scrolled": true
   },
   "outputs": [
    {
     "name": "stdout",
     "output_type": "stream",
     "text": [
      "22519\n",
      "  6.860253   0.000051   6.860304 (  6.872738)\n",
      "\n"
     ]
    }
   ],
   "source": [
    "@grid4d = Hash.new { false }\n",
    "\n",
    "data.flat_map.with_index do |row, rown|\n",
    "  row.map.with_index do |cell, celln|\n",
    "    [[rown, celln, 0, 0], cell]\n",
    "  end\n",
    "end.each do |k,v|\n",
    "  @grid4d[k] = v\n",
    "end\n",
    "\n",
    "def neighbors((x,y,z,w))\n",
    "  @dirs4d ||= [-1, 0, 1].repeated_permutation(4).to_a - [[0,0,0,0]]\n",
    "  @dirs4d.map do |x1,y1,z1,w1|\n",
    "    k = [x+x1,y+y1,z+z1,w+w1]\n",
    "    [k, @grid4d[k]]\n",
    "  end\n",
    "end\n",
    "\n",
    "def active_neighbors(k)\n",
    "  neighbors(k).select(&:last)\n",
    "end\n",
    "\n",
    "def update\n",
    "  cells = @grid4d.select{|k,v| v}.flat_map do |k,v|\n",
    "    neighbors(k)\n",
    "  end.uniq.map do |k,v|\n",
    "    n=active_neighbors(k).count\n",
    "    v = if v\n",
    "      n == 2 || n == 3\n",
    "    else\n",
    "      n == 3\n",
    "    end\n",
    "    [k,v]\n",
    "  end.to_h\n",
    "end\n",
    "\n",
    "6.times { @grid4d = update }\n",
    "puts @grid4d.values.count\n",
    "@grid4d.values.select(&:itself).count"
   ]
  },
  {
   "cell_type": "markdown",
   "metadata": {},
   "source": [
    "## N-dimensions"
   ]
  },
  {
   "cell_type": "code",
   "execution_count": 21,
   "metadata": {},
   "outputs": [
    {
     "name": "stdout",
     "output_type": "stream",
     "text": [
      "---\n",
      "{[-1, -1, -1, -1]=>false, [-1, -1, -1, 0]=>false, [-1, -1, -1, 1]=>false, [-1, -1, 0, -1]=>false, [-1, -1, 0, 0]=>false, [-1, -1, 0, 1]=>false, [-1, -1, 1, -1]=>false, [-1, -1, 1, 0]=>false, [-1, -1, 1, 1]=>false, [-1, 0, -1, -1]=>false, [-1, 0, -1, 0]=>false, [-1, 0, -1, 1]=>false, [-1, 0, 0, -1]=>false, [-1, 0, 0, 0]=>false, [-1, 0, 0, 1]=>false, [-1, 0, 1, -1]=>false, [-1, 0, 1, 0]=>false, [-1, 0, 1, 1]=>false, [-1, 1, -1, -1]=>false, [-1, 1, -1, 0]=>false, [-1, 1, -1, 1]=>false, [-1, 1, 0, -1]=>false, [-1, 1, 0, 0]=>false, [-1, 1, 0, 1]=>false, [-1, 1, 1, -1]=>false, [-1, 1, 1, 0]=>false, [-1, 1, 1, 1]=>false, [0, -1, -1, -1]=>false, [0, -1, -1, 0]=>false, [0, -1, -1, 1]=>false, [0, -1, 0, -1]=>false, [0, -1, 0, 0]=>false, [0, -1, 0, 1]=>false, [0, -1, 1, -1]=>false, [0, -1, 1, 0]=>false, [0, -1, 1, 1]=>false, [0, 0, -1, -1]=>false, [0, 0, -1, 0]=>false, [0, 0, -1, 1]=>false, [0, 0, 0, -1]=>false, [0, 0, 0, 1]=>false, [0, 0, 1, -1]=>false, [0, 0, 1, 0]=>false, [0, 0, 1, 1]=>false, [0, 1, -1, -1]=>false, [0, 1, -1, 0]=>false, [0, 1, -1, 1]=>false, [0, 1, 0, -1]=>false, [0, 1, 0, 0]=>false, [0, 1, 0, 1]=>false, [0, 1, 1, -1]=>false, [0, 1, 1, 0]=>false, [0, 1, 1, 1]=>false, [1, -1, -1, -1]=>false, [1, -1, -1, 0]=>false, [1, -1, -1, 1]=>false, [1, -1, 0, -1]=>false, [1, -1, 0, 0]=>false, [1, -1, 0, 1]=>false, [1, -1, 1, -1]=>false, [1, -1, 1, 0]=>false, [1, -1, 1, 1]=>false, [1, 0, -1, -1]=>false, [1, 0, -1, 0]=>false, [1, 0, -1, 1]=>false, [1, 0, 0, -1]=>false, [1, 0, 0, 0]=>false, [1, 0, 0, 1]=>false, [1, 0, 1, -1]=>false, [1, 0, 1, 0]=>false, [1, 0, 1, 1]=>false, [1, 1, -1, -1]=>false, [1, 1, -1, 0]=>false, [1, 1, -1, 1]=>false, [1, 1, 0, -1]=>false, [1, 1, 0, 0]=>false, [1, 1, 0, 1]=>false, [1, 1, 1, -1]=>false, [1, 1, 1, 0]=>false, [1, 1, 1, 1]=>false, [-1, 2, -1, -1]=>false, [-1, 2, -1, 0]=>false, [-1, 2, -1, 1]=>false, [-1, 2, 0, -1]=>false, [-1, 2, 0, 0]=>false, [-1, 2, 0, 1]=>false, [-1, 2, 1, -1]=>false, [-1, 2, 1, 0]=>false, [-1, 2, 1, 1]=>false, [-1, 3, -1, -1]=>false, [-1, 3, -1, 0]=>false, [-1, 3, -1, 1]=>false, [-1, 3, 0, -1]=>false, [-1, 3, 0, 0]=>false, [-1, 3, 0, 1]=>false, [-1, 3, 1, -1]=>false, [-1, 3, 1, 0]=>false, [-1, 3, 1, 1]=>false, [0, 2, -1, -1]=>false, [0, 2, -1, 0]=>false, [0, 2, -1, 1]=>false, [0, 2, 0, -1]=>false, [0, 2, 0, 1]=>false, [0, 2, 1, -1]=>false, [0, 2, 1, 0]=>false, [0, 2, 1, 1]=>false, [0, 3, -1, -1]=>false, [0, 3, -1, 0]=>false, [0, 3, -1, 1]=>false, [0, 3, 0, -1]=>false, [0, 3, 0, 0]=>false, [0, 3, 0, 1]=>false, [0, 3, 1, -1]=>false, [0, 3, 1, 0]=>false, [0, 3, 1, 1]=>false, [1, 2, -1, -1]=>false, [1, 2, -1, 0]=>false, [1, 2, -1, 1]=>false, [1, 2, 0, -1]=>false, [1, 2, 0, 0]=>false, [1, 2, 0, 1]=>false, [1, 2, 1, -1]=>false, [1, 2, 1, 0]=>false, [1, 2, 1, 1]=>false, [1, 3, -1, -1]=>false, [1, 3, -1, 0]=>false, [1, 3, -1, 1]=>false, [1, 3, 0, -1]=>false, [1, 3, 0, 0]=>false, [1, 3, 0, 1]=>false, [1, 3, 1, -1]=>false, [1, 3, 1, 0]=>false, [1, 3, 1, 1]=>false, [-1, 4, -1, -1]=>false, [-1, 4, -1, 0]=>false, [-1, 4, -1, 1]=>false, [-1, 4, 0, -1]=>false, [-1, 4, 0, 0]=>false, [-1, 4, 0, 1]=>false, [-1, 4, 1, -1]=>false, [-1, 4, 1, 0]=>false, [-1, 4, 1, 1]=>false, [0, 2, 0, 0]=>false, [0, 4, -1, -1]=>false, [0, 4, -1, 0]=>false, [0, 4, -1, 1]=>false, [0, 4, 0, -1]=>false, [0, 4, 0, 0]=>false, [0, 4, 0, 1]=>false, [0, 4, 1, -1]=>false, [0, 4, 1, 0]=>false, [0, 4, 1, 1]=>false, [1, 4, -1, -1]=>false, [1, 4, -1, 0]=>false, [1, 4, -1, 1]=>false, [1, 4, 0, -1]=>false, [1, 4, 0, 0]=>false, [1, 4, 0, 1]=>false, [1, 4, 1, -1]=>false, [1, 4, 1, 0]=>false, [1, 4, 1, 1]=>false, [0, 0, 0, 0]=>false, [2, 0, -1, -1]=>false, [2, 0, -1, 0]=>false, [2, 0, -1, 1]=>false, [2, 0, 0, -1]=>false, [2, 0, 0, 0]=>false, [2, 0, 0, 1]=>false, [2, 0, 1, -1]=>false, [2, 0, 1, 0]=>false, [2, 0, 1, 1]=>false, [2, 1, -1, -1]=>false, [2, 1, -1, 0]=>false, [2, 1, -1, 1]=>false, [2, 1, 0, -1]=>false, [2, 1, 0, 0]=>false, [2, 1, 0, 1]=>false, [2, 1, 1, -1]=>false, [2, 1, 1, 0]=>false, [2, 1, 1, 1]=>false, [2, 2, -1, -1]=>false, [2, 2, -1, 0]=>false, [2, 2, -1, 1]=>false, [2, 2, 0, -1]=>false, [2, 2, 0, 0]=>false, [2, 2, 0, 1]=>false, [2, 2, 1, -1]=>false, [2, 2, 1, 0]=>false, [2, 2, 1, 1]=>false, [2, 3, -1, -1]=>false, [2, 3, -1, 0]=>false, [2, 3, -1, 1]=>false, [2, 3, 0, -1]=>false, [2, 3, 0, 0]=>false, [2, 3, 0, 1]=>false, [2, 3, 1, -1]=>false, [2, 3, 1, 0]=>false, [2, 3, 1, 1]=>false, [2, 4, -1, -1]=>false, [2, 4, -1, 0]=>false, [2, 4, -1, 1]=>false, [2, 4, 0, -1]=>false, [2, 4, 0, 0]=>false, [2, 4, 0, 1]=>false, [2, 4, 1, -1]=>false, [2, 4, 1, 0]=>false, [2, 4, 1, 1]=>false, [0, 5, -1, -1]=>false, [0, 5, -1, 0]=>false, [0, 5, -1, 1]=>false, [0, 5, 0, -1]=>false, [0, 5, 0, 0]=>false, [0, 5, 0, 1]=>false, [0, 5, 1, -1]=>false, [0, 5, 1, 0]=>false, [0, 5, 1, 1]=>false, [0, 6, -1, -1]=>false, [0, 6, -1, 0]=>false, [0, 6, -1, 1]=>false, [0, 6, 0, -1]=>false, [0, 6, 0, 0]=>false, [0, 6, 0, 1]=>false, [0, 6, 1, -1]=>false, [0, 6, 1, 0]=>false, [0, 6, 1, 1]=>false, [1, 5, -1, -1]=>false, [1, 5, -1, 0]=>false, [1, 5, -1, 1]=>false, [1, 5, 0, -1]=>false, [1, 5, 0, 1]=>false, [1, 5, 1, -1]=>false, [1, 5, 1, 0]=>false, [1, 5, 1, 1]=>false, [1, 6, -1, -1]=>false, [1, 6, -1, 0]=>false, [1, 6, -1, 1]=>false, [1, 6, 0, -1]=>false, [1, 6, 0, 0]=>false, [1, 6, 0, 1]=>false, [1, 6, 1, -1]=>false, [1, 6, 1, 0]=>false, [1, 6, 1, 1]=>false, [2, 5, -1, -1]=>false, [2, 5, -1, 0]=>false, [2, 5, -1, 1]=>false, [2, 5, 0, -1]=>false, [2, 5, 0, 0]=>false, [2, 5, 0, 1]=>false, [2, 5, 1, -1]=>false, [2, 5, 1, 0]=>false, [2, 5, 1, 1]=>false, [2, 6, -1, -1]=>false, [2, 6, -1, 0]=>false, [2, 6, -1, 1]=>false, [2, 6, 0, -1]=>false, [2, 6, 0, 0]=>false, [2, 6, 0, 1]=>false, [2, 6, 1, -1]=>false, [2, 6, 1, 0]=>false, [2, 6, 1, 1]=>false, [0, 7, -1, -1]=>false, [0, 7, -1, 0]=>false, [0, 7, -1, 1]=>false, [0, 7, 0, -1]=>false, [0, 7, 0, 0]=>false, [0, 7, 0, 1]=>false, [0, 7, 1, -1]=>false, [0, 7, 1, 0]=>false, [0, 7, 1, 1]=>false, [1, 5, 0, 0]=>false, [1, 7, -1, -1]=>false, [1, 7, -1, 0]=>false, [1, 7, -1, 1]=>false, [1, 7, 0, -1]=>false, [1, 7, 0, 0]=>false, [1, 7, 0, 1]=>false, [1, 7, 1, -1]=>false, [1, 7, 1, 0]=>false, [1, 7, 1, 1]=>false, [2, 7, -1, -1]=>false, [2, 7, -1, 0]=>false, [2, 7, -1, 1]=>false, [2, 7, 0, -1]=>false, [2, 7, 0, 0]=>false, [2, 7, 0, 1]=>false, [2, 7, 1, -1]=>false, [2, 7, 1, 0]=>false, [2, 7, 1, 1]=>false, [2, -1, -1, -1]=>false, [2, -1, -1, 0]=>false, [2, -1, -1, 1]=>false, [2, -1, 0, -1]=>false, [2, -1, 0, 0]=>false, [2, -1, 0, 1]=>false, [2, -1, 1, -1]=>false, [2, -1, 1, 0]=>false, [2, -1, 1, 1]=>false, [3, -1, -1, -1]=>false, [3, -1, -1, 0]=>false, [3, -1, -1, 1]=>false, [3, -1, 0, -1]=>false, [3, -1, 0, 0]=>false, [3, -1, 0, 1]=>false, [3, -1, 1, -1]=>false, [3, -1, 1, 0]=>false, [3, -1, 1, 1]=>false, [3, 0, -1, -1]=>false, [3, 0, -1, 0]=>false, [3, 0, -1, 1]=>false, [3, 0, 0, -1]=>false, [3, 0, 0, 0]=>false, [3, 0, 0, 1]=>false, [3, 0, 1, -1]=>false, [3, 0, 1, 0]=>false, [3, 0, 1, 1]=>false, [3, 1, -1, -1]=>false, [3, 1, -1, 0]=>false, [3, 1, -1, 1]=>false, [3, 1, 0, -1]=>false, [3, 1, 0, 0]=>false, [3, 1, 0, 1]=>false, [3, 1, 1, -1]=>false, [3, 1, 1, 0]=>false, [3, 1, 1, 1]=>false, [3, 2, -1, -1]=>false, [3, 2, -1, 0]=>false, [3, 2, -1, 1]=>false, [3, 2, 0, -1]=>false, [3, 2, 0, 0]=>false, [3, 2, 0, 1]=>false, [3, 2, 1, -1]=>false, [3, 2, 1, 0]=>false, [3, 2, 1, 1]=>false, [3, 3, -1, -1]=>false, [3, 3, -1, 0]=>false, [3, 3, -1, 1]=>false, [3, 3, 0, -1]=>false, [3, 3, 0, 0]=>false, [3, 3, 0, 1]=>false, [3, 3, 1, -1]=>false, [3, 3, 1, 0]=>false, [3, 3, 1, 1]=>false, [3, 4, -1, -1]=>false, [3, 4, -1, 0]=>false, [3, 4, -1, 1]=>false, [3, 4, 0, -1]=>false, [3, 4, 0, 1]=>false, [3, 4, 1, -1]=>false, [3, 4, 1, 0]=>false, [3, 4, 1, 1]=>false, [3, 5, -1, -1]=>false, [3, 5, -1, 0]=>false, [3, 5, -1, 1]=>false, [3, 5, 0, -1]=>false, [3, 5, 0, 0]=>false, [3, 5, 0, 1]=>false, [3, 5, 1, -1]=>false, [3, 5, 1, 0]=>false, [3, 5, 1, 1]=>false, [4, 3, -1, -1]=>false, [4, 3, -1, 0]=>false, [4, 3, -1, 1]=>false, [4, 3, 0, -1]=>false, [4, 3, 0, 0]=>false, [4, 3, 0, 1]=>false, [4, 3, 1, -1]=>false, [4, 3, 1, 0]=>false, [4, 3, 1, 1]=>false, [4, 4, -1, -1]=>false, [4, 4, -1, 0]=>false, [4, 4, -1, 1]=>false, [4, 4, 0, -1]=>false, [4, 4, 0, 0]=>false, [4, 4, 0, 1]=>false, [4, 4, 1, -1]=>false, [4, 4, 1, 0]=>false, [4, 4, 1, 1]=>false, [4, 5, -1, -1]=>false, [4, 5, -1, 0]=>false, [4, 5, -1, 1]=>false, [4, 5, 0, -1]=>false, [4, 5, 0, 0]=>false, [4, 5, 0, 1]=>false, [4, 5, 1, -1]=>false, [4, 5, 1, 0]=>false, [4, 5, 1, 1]=>false, [3, 4, 0, 0]=>false, [3, 6, -1, -1]=>false, [3, 6, -1, 0]=>false, [3, 6, -1, 1]=>false, [3, 6, 0, -1]=>false, [3, 6, 0, 0]=>false, [3, 6, 0, 1]=>false, [3, 6, 1, -1]=>false, [3, 6, 1, 0]=>false, [3, 6, 1, 1]=>false, [4, 6, -1, -1]=>false, [4, 6, -1, 0]=>false, [4, 6, -1, 1]=>false, [4, 6, 0, -1]=>false, [4, 6, 0, 0]=>false, [4, 6, 0, 1]=>false, [4, 6, 1, -1]=>false, [4, 6, 1, 0]=>false, [4, 6, 1, 1]=>false, [2, 8, -1, -1]=>false, [2, 8, -1, 0]=>false, [2, 8, -1, 1]=>false, [2, 8, 0, -1]=>false, [2, 8, 0, 0]=>false, [2, 8, 0, 1]=>false, [2, 8, 1, -1]=>false, [2, 8, 1, 0]=>false, [2, 8, 1, 1]=>false, [3, 7, -1, -1]=>false, [3, 7, -1, 0]=>false, [3, 7, -1, 1]=>false, [3, 7, 0, -1]=>false, [3, 7, 0, 1]=>false, [3, 7, 1, -1]=>false, [3, 7, 1, 0]=>false, [3, 7, 1, 1]=>false, [3, 8, -1, -1]=>false, [3, 8, -1, 0]=>false, [3, 8, -1, 1]=>false, [3, 8, 0, -1]=>false, [3, 8, 0, 0]=>false, [3, 8, 0, 1]=>false, [3, 8, 1, -1]=>false, [3, 8, 1, 0]=>false, [3, 8, 1, 1]=>false, [4, 7, -1, -1]=>false, [4, 7, -1, 0]=>false, [4, 7, -1, 1]=>false, [4, 7, 0, -1]=>false, [4, 7, 0, 0]=>false, [4, 7, 0, 1]=>false, [4, 7, 1, -1]=>false, [4, 7, 1, 0]=>false, [4, 7, 1, 1]=>false, [4, 8, -1, -1]=>false, [4, 8, -1, 0]=>false, [4, 8, -1, 1]=>false, [4, 8, 0, -1]=>false, [4, 8, 0, 0]=>false, [4, 8, 0, 1]=>false, [4, 8, 1, -1]=>false, [4, 8, 1, 0]=>false, [4, 8, 1, 1]=>false, [4, -1, -1, -1]=>false, [4, -1, -1, 0]=>false, [4, -1, -1, 1]=>false, [4, -1, 0, -1]=>false, [4, -1, 0, 0]=>false, [4, -1, 0, 1]=>false, [4, -1, 1, -1]=>false, [4, -1, 1, 0]=>false, [4, -1, 1, 1]=>false, [4, 0, -1, -1]=>false, [4, 0, -1, 0]=>false, [4, 0, -1, 1]=>false, [4, 0, 0, -1]=>false, [4, 0, 0, 1]=>false, [4, 0, 1, -1]=>false, [4, 0, 1, 0]=>false, [4, 0, 1, 1]=>false, [4, 1, -1, -1]=>false, [4, 1, -1, 0]=>false, [4, 1, -1, 1]=>false, [4, 1, 0, -1]=>false, [4, 1, 0, 0]=>false, [4, 1, 0, 1]=>false, [4, 1, 1, -1]=>false, [4, 1, 1, 0]=>false, [4, 1, 1, 1]=>false, [5, -1, -1, -1]=>false, [5, -1, -1, 0]=>false, [5, -1, -1, 1]=>false, [5, -1, 0, -1]=>false, [5, -1, 0, 0]=>false, [5, -1, 0, 1]=>false, [5, -1, 1, -1]=>false, [5, -1, 1, 0]=>false, [5, -1, 1, 1]=>false, [5, 0, -1, -1]=>false, [5, 0, -1, 0]=>false, [5, 0, -1, 1]=>false, [5, 0, 0, -1]=>false, [5, 0, 0, 0]=>false, [5, 0, 0, 1]=>false, [5, 0, 1, -1]=>false, [5, 0, 1, 0]=>false, [5, 0, 1, 1]=>false, [5, 1, -1, -1]=>false, [5, 1, -1, 0]=>false, [5, 1, -1, 1]=>false, [5, 1, 0, -1]=>false, [5, 1, 0, 0]=>false, [5, 1, 0, 1]=>false, [5, 1, 1, -1]=>false, [5, 1, 1, 0]=>false, [5, 1, 1, 1]=>false, [5, 4, -1, -1]=>false, [5, 4, -1, 0]=>false, [5, 4, -1, 1]=>false, [5, 4, 0, -1]=>false, [5, 4, 0, 0]=>false, [5, 4, 0, 1]=>false, [5, 4, 1, -1]=>false, [5, 4, 1, 0]=>false, [5, 4, 1, 1]=>false, [5, 5, -1, -1]=>false, [5, 5, -1, 0]=>false, [5, 5, -1, 1]=>false, [5, 5, 0, -1]=>false, [5, 5, 0, 0]=>false, [5, 5, 0, 1]=>false, [5, 5, 1, -1]=>false, [5, 5, 1, 0]=>false, [5, 5, 1, 1]=>false, [5, 6, -1, -1]=>false, [5, 6, -1, 0]=>false, [5, 6, -1, 1]=>false, [5, 6, 0, -1]=>false, [5, 6, 0, 0]=>false, [5, 6, 0, 1]=>false, [5, 6, 1, -1]=>false, [5, 6, 1, 0]=>false, [5, 6, 1, 1]=>false, [3, 7, 0, 0]=>false, [5, 7, -1, -1]=>false, [5, 7, -1, 0]=>false, [5, 7, -1, 1]=>false, [5, 7, 0, -1]=>false, [5, 7, 0, 0]=>false, [5, 7, 0, 1]=>false, [5, 7, 1, -1]=>false, [5, 7, 1, 0]=>false, [5, 7, 1, 1]=>false, [5, 8, -1, -1]=>false, [5, 8, -1, 0]=>false, [5, 8, -1, 1]=>false, [5, 8, 0, -1]=>false, [5, 8, 0, 0]=>false, [5, 8, 0, 1]=>false, [5, 8, 1, -1]=>false, [5, 8, 1, 0]=>false, [5, 8, 1, 1]=>false, [4, 0, 0, 0]=>false, [4, 2, -1, -1]=>false, [4, 2, -1, 0]=>false, [4, 2, -1, 1]=>false, [4, 2, 0, -1]=>false, [4, 2, 0, 0]=>false, [4, 2, 0, 1]=>false, [4, 2, 1, -1]=>false, [4, 2, 1, 0]=>false, [4, 2, 1, 1]=>false, [5, 2, -1, -1]=>false, [5, 2, -1, 0]=>false, [5, 2, -1, 1]=>false, [5, 2, 0, -1]=>false, [5, 2, 0, 0]=>false, [5, 2, 0, 1]=>false, [5, 2, 1, -1]=>false, [5, 2, 1, 0]=>false, [5, 2, 1, 1]=>false, [6, 0, -1, -1]=>false, [6, 0, -1, 0]=>false, [6, 0, -1, 1]=>false, [6, 0, 0, -1]=>false, [6, 0, 0, 0]=>false, [6, 0, 0, 1]=>false, [6, 0, 1, -1]=>false, [6, 0, 1, 0]=>false, [6, 0, 1, 1]=>false, [6, 1, -1, -1]=>false, [6, 1, -1, 0]=>false, [6, 1, -1, 1]=>false, [6, 1, 0, -1]=>false, [6, 1, 0, 0]=>false, [6, 1, 0, 1]=>false, [6, 1, 1, -1]=>false, [6, 1, 1, 0]=>false, [6, 1, 1, 1]=>false, [6, 2, -1, -1]=>false, [6, 2, -1, 0]=>false, [6, 2, -1, 1]=>false, [6, 2, 0, -1]=>false, [6, 2, 0, 0]=>false, [6, 2, 0, 1]=>false, [6, 2, 1, -1]=>false, [6, 2, 1, 0]=>false, [6, 2, 1, 1]=>false, [5, 3, -1, -1]=>false, [5, 3, -1, 0]=>false, [5, 3, -1, 1]=>false, [5, 3, 0, -1]=>false, [5, 3, 0, 1]=>false, [5, 3, 1, -1]=>false, [5, 3, 1, 0]=>false, [5, 3, 1, 1]=>false, [6, 3, -1, -1]=>false, [6, 3, -1, 0]=>false, [6, 3, -1, 1]=>false, [6, 3, 0, -1]=>false, [6, 3, 0, 0]=>false, [6, 3, 0, 1]=>false, [6, 3, 1, -1]=>false, [6, 3, 1, 0]=>false, [6, 3, 1, 1]=>false, [6, 4, -1, -1]=>false, [6, 4, -1, 0]=>false, [6, 4, -1, 1]=>false, [6, 4, 0, -1]=>false, [6, 4, 0, 0]=>false, [6, 4, 0, 1]=>false, [6, 4, 1, -1]=>false, [6, 4, 1, 0]=>false, [6, 4, 1, 1]=>false, [6, 5, -1, -1]=>false, [6, 5, -1, 0]=>false, [6, 5, -1, 1]=>false, [6, 5, 0, -1]=>false, [6, 5, 0, 0]=>false, [6, 5, 0, 1]=>false, [6, 5, 1, -1]=>false, [6, 5, 1, 0]=>false, [6, 5, 1, 1]=>false, [6, 6, -1, -1]=>false, [6, 6, -1, 0]=>false, [6, 6, -1, 1]=>false, [6, 6, 0, -1]=>false, [6, 6, 0, 0]=>false, [6, 6, 0, 1]=>false, [6, 6, 1, -1]=>false, [6, 6, 1, 0]=>false, [6, 6, 1, 1]=>false, [7, 0, -1, -1]=>false, [7, 0, -1, 0]=>false, [7, 0, -1, 1]=>false, [7, 0, 0, -1]=>false, [7, 0, 0, 0]=>false, [7, 0, 0, 1]=>false, [7, 0, 1, -1]=>false, [7, 0, 1, 0]=>false, [7, 0, 1, 1]=>false, [7, 1, -1, -1]=>false, [7, 1, -1, 0]=>false, [7, 1, -1, 1]=>false, [7, 1, 0, -1]=>false, [7, 1, 0, 0]=>false, [7, 1, 0, 1]=>false, [7, 1, 1, -1]=>false, [7, 1, 1, 0]=>false, [7, 1, 1, 1]=>false, [7, 2, -1, -1]=>false, [7, 2, -1, 0]=>false, [7, 2, -1, 1]=>false, [7, 2, 0, -1]=>false, [7, 2, 0, 0]=>false, [7, 2, 0, 1]=>false, [7, 2, 1, -1]=>false, [7, 2, 1, 0]=>false, [7, 2, 1, 1]=>false, [5, 3, 0, 0]=>false, [7, 3, -1, -1]=>false, [7, 3, -1, 0]=>false, [7, 3, -1, 1]=>false, [7, 3, 0, -1]=>false, [7, 3, 0, 0]=>false, [7, 3, 0, 1]=>false, [7, 3, 1, -1]=>false, [7, 3, 1, 0]=>false, [7, 3, 1, 1]=>false, [6, 7, -1, -1]=>false, [6, 7, -1, 0]=>false, [6, 7, -1, 1]=>false, [6, 7, 0, -1]=>false, [6, 7, 0, 0]=>false, [6, 7, 0, 1]=>false, [6, 7, 1, -1]=>false, [6, 7, 1, 0]=>false, [6, 7, 1, 1]=>false, [7, 5, -1, -1]=>false, [7, 5, -1, 0]=>false, [7, 5, -1, 1]=>false, [7, 5, 0, -1]=>false, [7, 5, 0, 0]=>false, [7, 5, 0, 1]=>false, [7, 5, 1, -1]=>false, [7, 5, 1, 0]=>false, [7, 5, 1, 1]=>false, [7, 6, -1, -1]=>false, [7, 6, -1, 0]=>false, [7, 6, -1, 1]=>false, [7, 6, 0, -1]=>false, [7, 6, 0, 0]=>false, [7, 6, 0, 1]=>false, [7, 6, 1, -1]=>false, [7, 6, 1, 0]=>false, [7, 6, 1, 1]=>false, [7, 7, -1, -1]=>false, [7, 7, -1, 0]=>false, [7, 7, -1, 1]=>false, [7, 7, 0, -1]=>false, [7, 7, 0, 0]=>false, [7, 7, 0, 1]=>false, [7, 7, 1, -1]=>false, [7, 7, 1, 0]=>false, [7, 7, 1, 1]=>false, [6, 8, -1, -1]=>false, [6, 8, -1, 0]=>false, [6, 8, -1, 1]=>false, [6, 8, 0, -1]=>false, [6, 8, 0, 0]=>false, [6, 8, 0, 1]=>false, [6, 8, 1, -1]=>false, [6, 8, 1, 0]=>false, [6, 8, 1, 1]=>false, [7, 8, -1, -1]=>false, [7, 8, -1, 0]=>false, [7, 8, -1, 1]=>false, [7, 8, 0, -1]=>false, [7, 8, 0, 0]=>false, [7, 8, 0, 1]=>false, [7, 8, 1, -1]=>false, [7, 8, 1, 0]=>false, [7, 8, 1, 1]=>false, [6, -1, -1, -1]=>false, [6, -1, -1, 0]=>false, [6, -1, -1, 1]=>false, [6, -1, 0, -1]=>false, [6, -1, 0, 0]=>false, [6, -1, 0, 1]=>false, [6, -1, 1, -1]=>false, [6, -1, 1, 0]=>false, [6, -1, 1, 1]=>false, [7, -1, -1, -1]=>false, [7, -1, -1, 0]=>false, [7, -1, -1, 1]=>false, [7, -1, 0, -1]=>false, [7, -1, 0, 0]=>false, [7, -1, 0, 1]=>false, [7, -1, 1, -1]=>false, [7, -1, 1, 0]=>false, [7, -1, 1, 1]=>false, [8, -1, -1, -1]=>false, [8, -1, -1, 0]=>false, [8, -1, -1, 1]=>false, [8, -1, 0, -1]=>false, [8, -1, 0, 0]=>false, [8, -1, 0, 1]=>false, [8, -1, 1, -1]=>false, [8, -1, 1, 0]=>false, [8, -1, 1, 1]=>false, [8, 0, -1, -1]=>false, [8, 0, -1, 0]=>false, [8, 0, -1, 1]=>false, [8, 0, 0, -1]=>false, [8, 0, 0, 0]=>false, [8, 0, 0, 1]=>false, [8, 0, 1, -1]=>false, [8, 0, 1, 0]=>false, [8, 0, 1, 1]=>false, [8, 1, -1, -1]=>false, [8, 1, -1, 0]=>false, [8, 1, -1, 1]=>false, [8, 1, 0, -1]=>false, [8, 1, 0, 0]=>false, [8, 1, 0, 1]=>false, [8, 1, 1, -1]=>false, [8, 1, 1, 0]=>false, [8, 1, 1, 1]=>false, [7, 4, -1, -1]=>false, [7, 4, -1, 0]=>false, [7, 4, -1, 1]=>false, [7, 4, 0, -1]=>false, [7, 4, 0, 0]=>false, [7, 4, 0, 1]=>false, [7, 4, 1, -1]=>false, [7, 4, 1, 0]=>false, [7, 4, 1, 1]=>false, [8, 2, -1, -1]=>false, [8, 2, -1, 0]=>false, [8, 2, -1, 1]=>false, [8, 2, 0, -1]=>false, [8, 2, 0, 0]=>false, [8, 2, 0, 1]=>false, [8, 2, 1, -1]=>false, [8, 2, 1, 0]=>false, [8, 2, 1, 1]=>false, [8, 3, -1, -1]=>false, [8, 3, -1, 0]=>false, [8, 3, -1, 1]=>false, [8, 3, 0, -1]=>false, [8, 3, 0, 0]=>false, [8, 3, 0, 1]=>false, [8, 3, 1, -1]=>false, [8, 3, 1, 0]=>false, [8, 3, 1, 1]=>false, [8, 4, -1, -1]=>false, [8, 4, -1, 0]=>false, [8, 4, -1, 1]=>false, [8, 4, 0, -1]=>false, [8, 4, 0, 0]=>false, [8, 4, 0, 1]=>false, [8, 4, 1, -1]=>false, [8, 4, 1, 0]=>false, [8, 4, 1, 1]=>false, [8, 5, -1, -1]=>false, [8, 5, -1, 0]=>false, [8, 5, -1, 1]=>false, [8, 5, 0, -1]=>false, [8, 5, 0, 0]=>false, [8, 5, 0, 1]=>false, [8, 5, 1, -1]=>false, [8, 5, 1, 0]=>false, [8, 5, 1, 1]=>false, [8, 6, -1, -1]=>false, [8, 6, -1, 0]=>false, [8, 6, -1, 1]=>false, [8, 6, 0, -1]=>false, [8, 6, 0, 0]=>false, [8, 6, 0, 1]=>false, [8, 6, 1, -1]=>false, [8, 6, 1, 0]=>false, [8, 6, 1, 1]=>false, [8, 7, -1, -1]=>false, [8, 7, -1, 0]=>false, [8, 7, -1, 1]=>false, [8, 7, 0, -1]=>false, [8, 7, 0, 0]=>false, [8, 7, 0, 1]=>false, [8, 7, 1, -1]=>false, [8, 7, 1, 0]=>false, [8, 7, 1, 1]=>false, [8, 8, -1, -1]=>false, [8, 8, -1, 0]=>false, [8, 8, -1, 1]=>false, [8, 8, 0, -1]=>false, [8, 8, 0, 0]=>false, [8, 8, 0, 1]=>false, [8, 8, 1, -1]=>false, [8, 8, 1, 0]=>false, [8, 8, 1, 1]=>false}\n"
     ]
    },
    {
     "name": "stdout",
     "output_type": "stream",
     "text": [
      "---\n",
      "{}\n",
      "---\n",
      "{}\n",
      "---\n",
      "{}\n",
      "---\n",
      "{}\n",
      "---\n",
      "{}\n"
     ]
    },
    {
     "data": {
      "text/plain": [
       "{}"
      ]
     },
     "execution_count": 21,
     "metadata": {},
     "output_type": "execute_result"
    }
   ],
   "source": [
    "def neighbors(grid, k, directions)\n",
    "  directions.map do |k1|\n",
    "    n_k = k1.zip(k).map(&:sum)\n",
    "    [n_k, grid[k]]\n",
    "  end\n",
    "end\n",
    "\n",
    "def active_neighbors(grid, k, directions)\n",
    "  neighbors(grid, k, directions).select(&:last)\n",
    "end\n",
    "\n",
    "def update(grid, directions)\n",
    "  cells = grid.select{|k,v| v}.flat_map do |k,v|\n",
    "    neighbors(grid, k, directions)\n",
    "  end.uniq.map do |k,v|\n",
    "    n=active_neighbors(grid, k, directions).count\n",
    "    v = if v\n",
    "      n == 2 || n == 3\n",
    "    else\n",
    "      n == 3\n",
    "    end\n",
    "    [k,v]\n",
    "  end.to_h\n",
    "end\n",
    "\n",
    "def run(data, dimensions, iterations)\n",
    "  grid = Hash.new { false }\n",
    "    data.flat_map.with_index do |row, rown|\n",
    "    row.map.with_index do |cell, celln|\n",
    "      [[rown, celln, 0, 0], cell]\n",
    "    end\n",
    "  end.each do |k,v|\n",
    "    grid[k] = v\n",
    "  end\n",
    "\n",
    "  directions = [-1, 0, 1].repeated_permutation(dimensions).to_a - [Array.new(dimensions) {0}]\n",
    "  iterations.times do\n",
    "    grid = update(grid, directions)\n",
    "    puts \"---\"\n",
    "    puts grid.inspect\n",
    "  end\n",
    "  grid.values.select(&:itself).count\n",
    "  grid\n",
    "end\n",
    "\n",
    "run(data, 4, 6)"
   ]
  },
  {
   "cell_type": "code",
   "execution_count": null,
   "metadata": {},
   "outputs": [],
   "source": []
  }
 ],
 "metadata": {
  "kernelspec": {
   "display_name": "Ruby 2.7.0",
   "language": "ruby",
   "name": "ruby"
  },
  "language_info": {
   "file_extension": ".rb",
   "mimetype": "application/x-ruby",
   "name": "ruby",
   "version": "2.7.0"
  }
 },
 "nbformat": 4,
 "nbformat_minor": 2
}
