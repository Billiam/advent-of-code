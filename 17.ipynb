{
 "cells": [
  {
   "cell_type": "markdown",
   "metadata": {},
   "source": [
    "# Day 17"
   ]
  },
  {
   "cell_type": "code",
   "execution_count": 58,
   "metadata": {},
   "outputs": [
    {
     "data": {
      "text/plain": [
       "[[true, false, true, true, false, false, false, false], [false, true, false, true, false, true, true, false], [true, true, true, false, false, false, false, false], [false, false, false, false, true, true, false, true], [true, false, false, false, false, true, true, true], [false, true, false, true, false, true, false, false], [false, true, true, false, false, false, true, true], [true, false, false, true, false, true, true, true]]"
      ]
     },
     "execution_count": 58,
     "metadata": {},
     "output_type": "execute_result"
    }
   ],
   "source": [
    "data = File.read(\"17.txt\").split(\"\\n\").map {|i| i.split(\"\").map {|n| n==\"#\"}}"
   ]
  },
  {
   "cell_type": "code",
   "execution_count": 59,
   "metadata": {},
   "outputs": [
    {
     "name": "stdout",
     "output_type": "stream",
     "text": [
      "1418\n"
     ]
    },
    {
     "data": {
      "text/plain": [
       "230"
      ]
     },
     "execution_count": 59,
     "metadata": {},
     "output_type": "execute_result"
    }
   ],
   "source": [
    "@grid = Hash.new { false }\n",
    "\n",
    "data.flat_map.with_index do |row, rown|\n",
    "  row.map.with_index do |cell, celln|\n",
    "    [[rown, celln, 0], cell]\n",
    "  end\n",
    "end.each do |k,v|\n",
    "  @grid[k] = v\n",
    "end\n",
    "\n",
    "def neighbors((x,y,z))\n",
    "  @dirs ||= [-1, 0, 1].repeated_permutation(3).to_a - [[0,0,0]]\n",
    "  @dirs.map do |x1,y1,z1|\n",
    "    k = [x+x1,y+y1,z+z1]\n",
    "    [k, @grid[k]]\n",
    "  end\n",
    "end\n",
    "\n",
    "def active_neighbors(k)\n",
    "  neighbors(k).select(&:last)\n",
    "end\n",
    "\n",
    "def update\n",
    "  cells = @grid.select{|k,v| v}.flat_map do |k,v|\n",
    "    neighbors(k)\n",
    "  end.uniq.map do |k,v|\n",
    "    n=active_neighbors(k).count\n",
    "    v = if v\n",
    "      n == 2 || n == 3\n",
    "    else\n",
    "      n == 3\n",
    "    end\n",
    "    [k,v]\n",
    "  end.to_h\n",
    "end\n",
    "\n",
    "6.times { @grid = update }\n",
    "puts @grid.values.count\n",
    "@grid.values.select(&:itself).count"
   ]
  },
  {
   "cell_type": "code",
   "execution_count": 62,
   "metadata": {},
   "outputs": [
    {
     "name": "stdout",
     "output_type": "stream",
     "text": [
      "22519\n"
     ]
    },
    {
     "data": {
      "text/plain": [
       "1600"
      ]
     },
     "execution_count": 62,
     "metadata": {},
     "output_type": "execute_result"
    }
   ],
   "source": [
    "@grid4d = Hash.new { false }\n",
    "\n",
    "data.flat_map.with_index do |row, rown|\n",
    "  row.map.with_index do |cell, celln|\n",
    "    [[rown, celln, 0, 0], cell]\n",
    "  end\n",
    "end.each do |k,v|\n",
    "  @grid4d[k] = v\n",
    "end\n",
    "\n",
    "def neighbors((x,y,z,w))\n",
    "  @dirs4d ||= [-1, 0, 1].repeated_permutation(4).to_a - [[0,0,0,0]]\n",
    "  @dirs4d.map do |x1,y1,z1,w1|\n",
    "    k = [x+x1,y+y1,z+z1,w+w1]\n",
    "    [k, @grid4d[k]]\n",
    "  end\n",
    "end\n",
    "\n",
    "def active_neighbors(k)\n",
    "  neighbors(k).select(&:last)\n",
    "end\n",
    "\n",
    "def update\n",
    "  cells = @grid4d.select{|k,v| v}.flat_map do |k,v|\n",
    "    neighbors(k)\n",
    "  end.uniq.map do |k,v|\n",
    "    n=active_neighbors(k).count\n",
    "    v = if v\n",
    "      n == 2 || n == 3\n",
    "    else\n",
    "      n == 3\n",
    "    end\n",
    "    [k,v]\n",
    "  end.to_h\n",
    "end\n",
    "\n",
    "6.times { @grid4d = update }\n",
    "puts @grid4d.values.count\n",
    "@grid4d.values.select(&:itself).count"
   ]
  }
 ],
 "metadata": {
  "kernelspec": {
   "display_name": "Ruby 2.7.0",
   "language": "ruby",
   "name": "ruby"
  },
  "language_info": {
   "file_extension": ".rb",
   "mimetype": "application/x-ruby",
   "name": "ruby",
   "version": "2.7.0"
  }
 },
 "nbformat": 4,
 "nbformat_minor": 2
}
