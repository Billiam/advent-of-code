{
 "cells": [
  {
   "cell_type": "markdown",
   "metadata": {},
   "source": [
    "# Day 13"
   ]
  },
  {
   "cell_type": "code",
   "execution_count": 314,
   "metadata": {},
   "outputs": [
    {
     "data": {
      "text/plain": [
       "[41, 37, 379, 23, 13, 17, 29, 557, 19]"
      ]
     },
     "execution_count": 314,
     "metadata": {},
     "output_type": "execute_result"
    }
   ],
   "source": [
    "time,busses = File.read(\"13.txt\").split(\"\\n\")\n",
    "time = time.to_i\n",
    "active_busses = busses.split(\",\").reject{|i| i == \"x\"}.map(&:to_i)"
   ]
  },
  {
   "cell_type": "code",
   "execution_count": 315,
   "metadata": {},
   "outputs": [
    {
     "data": {
      "text/plain": [
       "[379, 5]"
      ]
     },
     "execution_count": 315,
     "metadata": {},
     "output_type": "execute_result"
    }
   ],
   "source": [
    "first_bus = active_busses.map {|bus| [bus, -1  * (time % bus) + bus] }.sort_by(&:last).first"
   ]
  },
  {
   "cell_type": "code",
   "execution_count": 316,
   "metadata": {},
   "outputs": [
    {
     "data": {
      "text/plain": [
       "1895"
      ]
     },
     "execution_count": 316,
     "metadata": {},
     "output_type": "execute_result"
    }
   ],
   "source": [
    "first_bus.first * first_bus.last"
   ]
  },
  {
   "cell_type": "markdown",
   "metadata": {},
   "source": [
    "## Part 2"
   ]
  },
  {
   "cell_type": "code",
   "execution_count": 317,
   "metadata": {
    "scrolled": true
   },
   "outputs": [
    {
     "data": {
      "text/plain": [
       "[41, nil, nil, nil, nil, nil, nil, nil, nil, nil, nil, nil, nil, nil, nil, nil, nil, nil, nil, nil, nil, nil, nil, nil, nil, nil, nil, nil, nil, nil, nil, nil, nil, nil, nil, 37, nil, nil, nil, nil, nil, 379, nil, nil, nil, nil, nil, nil, nil, 23, nil, nil, nil, nil, 13, nil, nil, nil, 17, nil, nil, nil, nil, nil, nil, nil, nil, nil, nil, nil, 29, nil, 557, nil, nil, nil, nil, nil, nil, nil, nil, nil, nil, nil, nil, nil, nil, nil, nil, nil, nil, 19]"
      ]
     },
     "execution_count": 317,
     "metadata": {},
     "output_type": "execute_result"
    }
   ],
   "source": [
    "all_busses = busses.split(\",\").map {|i| i == \"x\" ? nil : i.to_i }"
   ]
  },
  {
   "cell_type": "code",
   "execution_count": 318,
   "metadata": {},
   "outputs": [
    {
     "data": {
      "text/plain": [
       "[[0, 41], [35, 37], [41, 379], [49, 23], [54, 13], [58, 17], [70, 29], [72, 557], [91, 19]]"
      ]
     },
     "execution_count": 318,
     "metadata": {},
     "output_type": "execute_result"
    }
   ],
   "source": [
    "schedule = all_busses.map.with_index {|i, n| [n,i]}.select(&:last)\n"
   ]
  },
  {
   "cell_type": "code",
   "execution_count": 320,
   "metadata": {
    "scrolled": false
   },
   "outputs": [
    {
     "name": "stdout",
     "output_type": "stream",
     "text": [
      "Checking trip: 0:41 starting at 0 in steps of 1\n",
      "Checking trip: 35:37 starting at 0 in steps of 41\n",
      "Checking trip: 41:379 starting at 779 in steps of 1517\n",
      "Checking trip: 49:23 starting at 481668 in steps of 574943\n",
      "Checking trip: 54:13 starting at 7955927 in steps of 13223689\n",
      "Checking trip: 58:17 starting at 140192817 in steps of 171907957\n",
      "Checking trip: 70:29 starting at 655916688 in steps of 2922435269\n",
      "Checking trip: 72:557 starting at 21112963571 in steps of 84750622801\n",
      "Checking trip: 91:19 starting at 37989391978419 in steps of 47206096900157\n"
     ]
    },
    {
     "data": {
      "text/plain": [
       "840493039281088"
      ]
     },
     "execution_count": 320,
     "metadata": {},
     "output_type": "execute_result"
    }
   ],
   "source": [
    "schedule.inject([1,0]) do |(step, counter), (minute, trip)|\n",
    "  puts \"Checking trip: #{minute}:#{trip} starting at #{counter} in steps of #{step}\"\n",
    "  \n",
    "  while (counter + minute) % trip > 0\n",
    "    counter += step\n",
    "  end\n",
    "  \n",
    "  step = trip * step\n",
    "  [step, counter]\n",
    "end.last"
   ]
  }
 ],
 "metadata": {
  "kernelspec": {
   "display_name": "Ruby 2.7.0",
   "language": "ruby",
   "name": "ruby"
  },
  "language_info": {
   "file_extension": ".rb",
   "mimetype": "application/x-ruby",
   "name": "ruby",
   "version": "2.7.0"
  }
 },
 "nbformat": 4,
 "nbformat_minor": 2
}
